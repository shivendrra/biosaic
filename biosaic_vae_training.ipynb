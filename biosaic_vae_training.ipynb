{
  "cells": [
    {
      "cell_type": "code",
      "execution_count": 1,
      "metadata": {
        "colab": {
          "base_uri": "https://localhost:8080/"
        },
        "id": "S8l3EoGdNFIf",
        "outputId": "237de165-d96d-4821-d86b-6d290cd341d8"
      },
      "outputs": [
        {
          "output_type": "stream",
          "name": "stdout",
          "text": [
            "Drive already mounted at /content/drive; to attempt to forcibly remount, call drive.mount(\"/content/drive\", force_remount=True).\n"
          ]
        }
      ],
      "source": [
        "from google.colab import drive\n",
        "drive.mount('/content/drive')"
      ]
    },
    {
      "cell_type": "code",
      "execution_count": 3,
      "metadata": {
        "colab": {
          "base_uri": "https://localhost:8080/"
        },
        "id": "fgQo9-IuI41Q",
        "outputId": "dfe3ac9e-4aeb-425a-8079-28e58f67f85b"
      },
      "outputs": [
        {
          "output_type": "stream",
          "name": "stdout",
          "text": [
            "4.699672 million words\n"
          ]
        }
      ],
      "source": [
        "with open('/content/drive/MyDrive/dna_data.txt', 'r', encoding='utf-8') as file:\n",
        "  dataset = file.readlines()\n",
        "  dataset = \"\".join(line.strip() for line in dataset if line.strip())\n",
        "  dataset = dataset.upper()\n",
        "print(len(dataset)/1e6, 'million words')"
      ]
    },
    {
      "cell_type": "code",
      "execution_count": 2,
      "metadata": {
        "id": "WtFDt32DJOR1"
      },
      "outputs": [],
      "source": [
        "import torch\n",
        "import torch.nn as nn\n",
        "from torch.nn import functional as F"
      ]
    },
    {
      "cell_type": "code",
      "execution_count": 4,
      "metadata": {
        "id": "Ybtg7t1iJXNP"
      },
      "outputs": [],
      "source": [
        "class ModelConfig:\n",
        "  d_model: int= 128\n",
        "  in_dim: int= 4\n",
        "  n_embed: int=512\n",
        "  beta: float=0.25\n",
        "  n_heads: int= 8\n",
        "  n_layers: int= 8"
      ]
    },
    {
      "cell_type": "code",
      "execution_count": 5,
      "metadata": {
        "id": "ygZ9NnY2JapL"
      },
      "outputs": [],
      "source": [
        "class encoder(nn.Module):\n",
        "  def __init__(self, _in, d_model, n_layers, n_heads):\n",
        "    super().__init__()\n",
        "    self.embed = nn.Linear(_in, d_model)\n",
        "    self.encoder = nn.TransformerEncoder(\n",
        "      nn.TransformerEncoderLayer(d_model=d_model, nhead=n_heads),\n",
        "      num_layers=n_layers)\n",
        "\n",
        "  def forward(self, x):\n",
        "    x = self.embed(x)\n",
        "    x = x.permute(1, 0, 2)  # (L, B, d_model)\n",
        "    z_e = self.encoder(x) # Transformer encoding\n",
        "    return z_e.permute(1, 0, 2) # Back to (B, L, 4)\n",
        "\n",
        "class decoder(nn.Module):\n",
        "  def __init__(self, d_model, _out, n_layers, n_heads):\n",
        "    super().__init__()\n",
        "    self.decoder = nn.TransformerDecoder(\n",
        "      nn.TransformerDecoderLayer(d_model=d_model, nhead=n_heads),\n",
        "      num_layers=n_layers\n",
        "    )\n",
        "    self.fc_out = nn.Linear(d_model, _out)  # Output logits (4 classes)\n",
        "\n",
        "  def forward(self, z_q):\n",
        "    z_q = z_q.permute(1, 0, 2)  # (L, B, d_model)\n",
        "    x_recon = self.decoder(z_q, z_q)  # Transformer decoding\n",
        "    x_recon = self.fc_out(x_recon.permute(1, 0, 2))  # Back to (B, L, 4)\n",
        "    return x_recon\n",
        "\n",
        "class Quantizer(nn.Module):\n",
        "  def __init__(self, n_embed, d_model, beta):\n",
        "    super().__init__()\n",
        "    self.n_embed, self.d_model, self.beta = n_embed, d_model, beta\n",
        "    self.embeddings = nn.Embedding(n_embed, d_model)\n",
        "    self.embeddings.weight.data.uniform_(-1.0 / n_embed, 1.0 / n_embed)\n",
        "\n",
        "  def forward(self, z_e):\n",
        "    # z_e_flat = z_e.view(-1, self.d_model)\n",
        "    z_e_flat = z_e.reshape(-1, self.d_model)\n",
        "    distances = torch.cdist(z_e_flat, self.embeddings.weight)\n",
        "    encoding_indices = torch.argmin(distances, dim=1)\n",
        "    z_q = self.embeddings(encoding_indices).view(z_e.shape)\n",
        "    loss = self.beta * torch.mean((z_q.detach() - z_e) ** 2) + torch.mean((z_e.detach() - z_q) ** 2)\n",
        "\n",
        "    z_q = z_e + (z_q - z_e).detach()\n",
        "    return z_q, loss, encoding_indices.view(z_e.shape[:-1])\n",
        "\n",
        "class DNA_VQVAE(nn.Module):\n",
        "  def __init__(self, args: ModelConfig):\n",
        "    super().__init__()\n",
        "    self.encoder = encoder(args.in_dim, args.d_model, args.n_layers, args.n_heads)\n",
        "    self.vq_layer = Quantizer(args.n_embed, args.d_model, args.beta)\n",
        "    self.decoder = decoder(args.d_model, args.in_dim, args.n_layers, args.n_heads)\n",
        "\n",
        "  def forward(self, x):\n",
        "    z_e = self.encoder(x)\n",
        "    z_q, vq_loss, indices = self.vq_layer(z_e)\n",
        "    x_recon = self.decoder(z_q)\n",
        "    return x_recon, vq_loss, indices"
      ]
    },
    {
      "cell_type": "code",
      "execution_count": 7,
      "metadata": {
        "id": "QsgQhkBnJc7d"
      },
      "outputs": [],
      "source": [
        "import os\n",
        "DNA_VOCAB = {'A': 0, 'C': 1, 'G': 2, 'T': 3}\n",
        "INDEX_TO_DNA = {v: k for k, v in DNA_VOCAB.items()}  # Reverse mapping\n",
        "\n",
        "class Dataset:\n",
        "  def __init__(self, file_path, ratio:float=0.25):\n",
        "    \"\"\"\n",
        "      Initialize the Dataset\n",
        "      Args:\n",
        "        file_path (str): Path to the DNA data file\n",
        "        test_split (float): Fraction of data to use for testing (default 0.2)\"\"\"\n",
        "    self.file_path = file_path\n",
        "    self.test_split = ratio\n",
        "    self.data = \"\"\n",
        "    self.train_data = \"\"\n",
        "    self.val_data = \"\"\n",
        "    self.load_and_format_data()\n",
        "    self.train_test_split()\n",
        "\n",
        "  def load_and_format_data(self):\n",
        "    \"\"\"\n",
        "      Loads the file and formats the data:\n",
        "        - Reads all lines\n",
        "        - Strips whitespace and removes newline characters\n",
        "        - Joins all lines into a single continuous string\n",
        "        - Converts the string to uppercase\"\"\"\n",
        "    if not os.path.isfile(self.file_path):\n",
        "      raise FileNotFoundError(f\"{self.file_path} does not exist.\")\n",
        "\n",
        "    with open(self.file_path, \"r\", encoding=\"utf-8\") as f:\n",
        "      raw_lines = f.readlines()\n",
        "\n",
        "    # Remove empty lines, strip whitespace, and join into one continuous string.\n",
        "    formatted_data = \"\".join(line.strip() for line in raw_lines if line.strip())\n",
        "    self.data = formatted_data.upper()\n",
        "\n",
        "  @staticmethod\n",
        "  def dna_to_onehot(seq):\n",
        "    \"\"\"\n",
        "      Converts a DNA sequence (string) into a one-hot encoded tensor\n",
        "      Only characters 'A', 'C', 'G', 'T' are considered\n",
        "      Args:\n",
        "        seq (str): DNA sequence\n",
        "      Returns:\n",
        "        Tensor of shape (L, 4) where L is the length of the sequence\"\"\"\n",
        "    DNA_VOCAB = {'A': 0, 'C': 1, 'G': 2, 'T': 3}\n",
        "    # convert each character to an index\n",
        "    indices = [DNA_VOCAB[char] for char in seq if char in DNA_VOCAB]\n",
        "    onehot = F.one_hot(torch.tensor(indices), num_classes=4).float()\n",
        "    return onehot\n",
        "\n",
        "  def get_batch(self, split, batch_size, block_size, device=\"cpu\"):\n",
        "    \"\"\"\n",
        "      Samples a random batch of subsequences from the train or validation data\n",
        "      Args:\n",
        "        split (str): \"train\" or \"val\"\n",
        "        batch_size (int): Number of samples in the batch\n",
        "        block_size (int): Length of each subsequence\n",
        "        device (str): Device to move the tensors to (e.g. \"cpu\" or \"cuda\")\n",
        "      Returns:\n",
        "        Tuple of tensors (x, y) where x is the input batch and y is the target batch\n",
        "        The target is the input sequence shifted by one character\"\"\"\n",
        "    data = self.train_data if split == \"train\" else self.val_data\n",
        "    if len(data) < block_size + 1:\n",
        "      print(data[:3], len(data), block_size)\n",
        "      raise ValueError(\"Data length is less than block size.\")\n",
        "    # randomly choose starting indices\n",
        "    ix = torch.randint(0, len(data) - block_size, (batch_size,))\n",
        "    x = torch.stack([self.dna_to_onehot(data[i:i+block_size]) for i in ix])\n",
        "    y = torch.stack([self.dna_to_onehot(data[i+1:i+block_size+1]) for i in ix])\n",
        "    return x.to(device), y.to(device)\n",
        "\n",
        "  def train_test_split(self):\n",
        "    \"\"\"\n",
        "      Splits the formatted data into training and testing sets\n",
        "      Returns:\n",
        "        A tuple (train_data, test_data) containing the split strings\"\"\"\n",
        "    if not self.data:\n",
        "      raise ValueError(\"Data is not loaded. Please check the file content.\")\n",
        "\n",
        "    split_idx = int(len(self.data) * (1 - self.test_split))\n",
        "    self.train_data = self.data[:split_idx]\n",
        "    self.test_data = self.data[split_idx:]\n",
        "    return self.train_data, self.test_data\n",
        "\n",
        "  def get_full_data(self):\n",
        "    \"\"\"\n",
        "      Returns the full formatted DNA string\"\"\"\n",
        "    return self.data\n",
        "\n",
        "  def __len__(self):\n",
        "    return len(self.data)\n",
        "\n",
        "  def __getitem__(self, idx):\n",
        "    if idx < 0 or idx >= len(self.data):\n",
        "      raise IndexError(\"Index out of range.\")\n",
        "    return self.data[idx]"
      ]
    },
    {
      "cell_type": "code",
      "execution_count": 6,
      "metadata": {
        "colab": {
          "base_uri": "https://localhost:8080/"
        },
        "id": "KUjT8LyQJf5L",
        "outputId": "a37c3ac4-eb94-46ff-8df4-ddaf5d65f375"
      },
      "outputs": [
        {
          "output_type": "stream",
          "name": "stderr",
          "text": [
            "/usr/local/lib/python3.11/dist-packages/torch/nn/modules/transformer.py:385: UserWarning: enable_nested_tensor is True, but self.use_nested_tensor is False because encoder_layer.self_attn.batch_first was not True(use batch_first for better inference performance)\n",
            "  warnings.warn(\n"
          ]
        }
      ],
      "source": [
        "DNA_VOCAB = {\"A\": 0, \"T\": 1, \"C\": 2, \"G\": 3}\n",
        "INDEX_TO_DNA = {0: 'A', 1: 'C', 2: 'G', 3: 'T'}\n",
        "device = torch.device('cuda' if torch.cuda.is_available() else 'cpu')\n",
        "model = DNA_VQVAE(ModelConfig).to(device)\n",
        "\n",
        "class tokenizer:\n",
        "  def __init__(self):\n",
        "    self.vocab = DNA_VOCAB\n",
        "    self.ids_to_dna = INDEX_TO_DNA\n",
        "    self.device = device\n",
        "\n",
        "  def __str__(self):\n",
        "    return f\"\\t/Biosaic VQ-VAE tokenizer v1.0.0/\\t\"\n",
        "\n",
        "  def dna_to_onehot(self, seq):\n",
        "    seq_idx = [DNA_VOCAB[char] for char in seq]\n",
        "    one_hot = F.one_hot(torch.tensor(seq_idx), num_classes=4)\n",
        "    return one_hot.float()\n",
        "\n",
        "  def onehot_to_dna(self, logits):\n",
        "    decoded_out = torch.argmax(logits, dim=-1)\n",
        "    decoded = ''.join(self.ids_to_dna[idx.item()] for idx in decoded_out.squeeze(0))\n",
        "    return decoded\n",
        "\n",
        "  def encode(self, seq: str):\n",
        "    one_hot_seq = self.dna_to_onehot(seq).unsqueeze(0).to(device)\n",
        "    _, _, tokens = model(one_hot_seq)\n",
        "    return tokens.sequeeze(0).cpu().numpy()\n",
        "\n",
        "  def decode(self, tokens: list):\n",
        "    tokens = torch.tensor(tokens, dtype=torch.long).to(device)\n",
        "    z_q = model.vq_layer.embeddings(tokens)\n",
        "\n",
        "    with torch.no_grad():\n",
        "      logits = model.decoder(z_q)\n",
        "    decoded = self.onehot_to_dna(logits)\n",
        "    return decoded"
      ]
    },
    {
      "cell_type": "code",
      "execution_count": 7,
      "metadata": {
        "colab": {
          "base_uri": "https://localhost:8080/",
          "height": 231
        },
        "id": "eVPlj5JLJsn-",
        "outputId": "785aa0bd-0ab6-4f86-9ff6-9e392ec071ad"
      },
      "outputs": [
        {
          "output_type": "stream",
          "name": "stdout",
          "text": [
            "10.09 million\n"
          ]
        },
        {
          "output_type": "error",
          "ename": "NameError",
          "evalue": "name 'Dataset' is not defined",
          "traceback": [
            "\u001b[0;31m---------------------------------------------------------------------------\u001b[0m",
            "\u001b[0;31mNameError\u001b[0m                                 Traceback (most recent call last)",
            "\u001b[0;32m<ipython-input-7-36967d4766cc>\u001b[0m in \u001b[0;36m<cell line: 0>\u001b[0;34m()\u001b[0m\n\u001b[1;32m      7\u001b[0m \u001b[0;31m# train-test split\u001b[0m\u001b[0;34m\u001b[0m\u001b[0;34m\u001b[0m\u001b[0m\n\u001b[1;32m      8\u001b[0m \u001b[0mfile_path\u001b[0m \u001b[0;34m=\u001b[0m \u001b[0;34m\"/content/drive/MyDrive/dna_data.txt\"\u001b[0m\u001b[0;34m\u001b[0m\u001b[0;34m\u001b[0m\u001b[0m\n\u001b[0;32m----> 9\u001b[0;31m \u001b[0mdata\u001b[0m \u001b[0;34m=\u001b[0m \u001b[0mDataset\u001b[0m\u001b[0;34m(\u001b[0m\u001b[0mfile_path\u001b[0m\u001b[0;34m,\u001b[0m \u001b[0mratio\u001b[0m\u001b[0;34m=\u001b[0m\u001b[0;36m0.2\u001b[0m\u001b[0;34m)\u001b[0m\u001b[0;34m\u001b[0m\u001b[0;34m\u001b[0m\u001b[0m\n\u001b[0m\u001b[1;32m     10\u001b[0m \u001b[0mtrain_data\u001b[0m\u001b[0;34m,\u001b[0m \u001b[0mval_data\u001b[0m \u001b[0;34m=\u001b[0m \u001b[0mdata\u001b[0m\u001b[0;34m.\u001b[0m\u001b[0mtrain_test_split\u001b[0m\u001b[0;34m(\u001b[0m\u001b[0;34m)\u001b[0m\u001b[0;34m\u001b[0m\u001b[0;34m\u001b[0m\u001b[0m\n",
            "\u001b[0;31mNameError\u001b[0m: name 'Dataset' is not defined"
          ]
        }
      ],
      "source": [
        "device = torch.device(\"cuda\" if torch.cuda.is_available else \"cpu\")\n",
        "_model = DNA_VQVAE(ModelConfig).to(\"cpu\")\n",
        "n_param = sum(p.numel() for p in _model.parameters())/1e6\n",
        "print(f\"{n_param:.2f} million\")\n",
        "optimizer = torch.optim.Adam(_model.parameters(), lr=1e-5)\n",
        "\n",
        "# train-test split\n",
        "file_path = \"/content/drive/MyDrive/dna_data.txt\"\n",
        "data = Dataset(file_path, ratio=0.2)\n",
        "train_data, val_data = data.train_test_split()"
      ]
    },
    {
      "cell_type": "code",
      "source": [
        "DNA_VOCAB = {'A': 0, 'C': 1, 'G': 2, 'T': 3}\n",
        "INDEX_TO_DNA = {v: k for k, v in DNA_VOCAB.items()}  # Reverse mapping\n",
        "\n",
        "class Dataset:\n",
        "  def __init__(self, path:str):\n",
        "    self.path = path\n",
        "\n",
        "  def load_simple(self):\n",
        "    with open(self.path, \"r\", encoding=\"utf-8\") as f:\n",
        "      lines = [line.strip() for line in f.readlines() if line.strip()]  # removing empty lines & strip whitespace\n",
        "    merged_sequence = \"\".join(lines)  # joining all lines into a single sequence\n",
        "    return merged_sequence\n",
        "\n",
        "  def load_encoded(self, seq=None):\n",
        "    if seq:\n",
        "      loaded_sequences = seq\n",
        "    else:\n",
        "      loaded_sequences = self.load_simple()\n",
        "    seq_idx = [DNA_VOCAB[char] for char in loaded_sequences]\n",
        "    return F.one_hot(torch.tensor(seq_idx, dtype=torch.long), num_classes=4) # shape (L, 4)\n",
        "\n",
        "  def train_test_split(self, sequence:str=None, ratio:float=0.8):\n",
        "    sequence = self.load_encoded(seq=sequence) if sequence else self.load_encoded()\n",
        "    split_size = int(0.8 * len(sequence))\n",
        "\n",
        "    train_data = sequence[:split_size]\n",
        "    test_data = sequence[split_size:]\n",
        "    return train_data, test_data\n",
        "\n",
        "device = torch.device(\"cuda\" if torch.cuda.is_available else \"cpu\")\n",
        "_model = DNA_VQVAE(ModelConfig).to(\"cpu\")\n",
        "n_param = sum(p.numel() for p in _model.parameters())/1e6\n",
        "print(f\"{n_param:.2f} million\")\n",
        "optimizer = torch.optim.Adam(_model.parameters(), lr=1e-5)\n",
        "\n",
        "# train-test split\n",
        "file_path = \"/content/drive/MyDrive/dna_data.txt\"\n",
        "data = Dataset(file_path)\n",
        "train_data, val_data = data.train_test_split(ratio=0.85)"
      ],
      "metadata": {
        "colab": {
          "base_uri": "https://localhost:8080/"
        },
        "id": "n87scqoagYth",
        "outputId": "deb12146-0886-4712-94f6-48aa07b5f304"
      },
      "execution_count": 8,
      "outputs": [
        {
          "output_type": "stream",
          "name": "stderr",
          "text": [
            "/usr/local/lib/python3.11/dist-packages/torch/nn/modules/transformer.py:385: UserWarning: enable_nested_tensor is True, but self.use_nested_tensor is False because encoder_layer.self_attn.batch_first was not True(use batch_first for better inference performance)\n",
            "  warnings.warn(\n"
          ]
        },
        {
          "output_type": "stream",
          "name": "stdout",
          "text": [
            "10.09 million\n"
          ]
        }
      ]
    },
    {
      "cell_type": "code",
      "execution_count": 9,
      "metadata": {
        "colab": {
          "base_uri": "https://localhost:8080/"
        },
        "id": "0ubhBe6e6RGb",
        "outputId": "4b78f79c-5404-4ee4-92c4-dc3953a0b6d4"
      },
      "outputs": [
        {
          "output_type": "stream",
          "name": "stdout",
          "text": [
            "tensor([[1, 0, 0, 0],\n",
            "        [0, 0, 1, 0],\n",
            "        [0, 1, 0, 0],\n",
            "        [0, 0, 0, 1],\n",
            "        [0, 0, 0, 1]])\n"
          ]
        }
      ],
      "source": [
        "print(train_data[:5])"
      ]
    },
    {
      "cell_type": "code",
      "source": [
        "batch_size = 8\n",
        "block_size = 64\n",
        "epochs = 2000\n",
        "eval_interval = 100\n",
        "eval_iters = 50\n",
        "learning_rate = 1e-5\n",
        "loss_history = []\n",
        "\n",
        "def get_batch(split):\n",
        "  data = train_data if split == 'train' else val_data\n",
        "  ix = torch.randint(len(data) - block_size, (batch_size,))\n",
        "  x = torch.stack([data[i:i+block_size] for i in ix]).float()  # Convert to float\n",
        "  y = torch.stack([data[i+1:i+block_size+1] for i in ix]).float()  # Convert to float\n",
        "  return x.to(\"cpu\"), y.to(\"cpu\")\n",
        "\n",
        "@torch.no_grad()\n",
        "def estimate_loss():\n",
        "  out = {}\n",
        "  _model.eval()\n",
        "  for split in ['train', 'val']:\n",
        "    losses = torch.zeros(eval_iters)\n",
        "    for k in range(eval_iters):\n",
        "      X, Y = get_batch(split)\n",
        "      x_recon, vq_loss, _ = _model(X)\n",
        "      recon_loss = F.cross_entropy(x_recon.view(-1, 4), Y.view(-1, 4))\n",
        "      losses[k] = (recon_loss + vq_loss).item()\n",
        "    out[split] = losses.mean()\n",
        "  _model.train()\n",
        "  return out\n",
        "\n",
        "for epoch in range(epochs):\n",
        "  xb, yb = get_batch('train')\n",
        "\n",
        "  optimizer.zero_grad()\n",
        "  x_recon, vq_loss, _ = _model(xb)\n",
        "  recon_loss = F.cross_entropy(x_recon.view(-1, 4), yb.view(-1, 4))\n",
        "  loss = recon_loss + vq_loss\n",
        "  optimizer.zero_grad()\n",
        "  loss.backward()\n",
        "  optimizer.step()\n",
        "\n",
        "  if (epoch + 1) % eval_interval == 0:\n",
        "    losses = estimate_loss()\n",
        "    print(f\"Epoch {epoch+1}: Train Loss = {losses['train']:.4f}, Val Loss = {losses['val']:.4f}\")\n",
        "    loss_history.append((epoch + 1, losses['train'], losses['val']))"
      ],
      "metadata": {
        "colab": {
          "base_uri": "https://localhost:8080/"
        },
        "id": "gmZwOkeXfgtZ",
        "outputId": "de8b9661-8fd0-4384-9875-d83600024e2c"
      },
      "execution_count": 10,
      "outputs": [
        {
          "output_type": "stream",
          "name": "stdout",
          "text": [
            "Epoch 100: Train Loss = 2.6277, Val Loss = 2.6281\n",
            "Epoch 200: Train Loss = 2.6132, Val Loss = 2.6128\n",
            "Epoch 300: Train Loss = 2.6086, Val Loss = 2.6093\n",
            "Epoch 400: Train Loss = 2.6082, Val Loss = 2.6040\n",
            "Epoch 500: Train Loss = 2.6060, Val Loss = 2.6033\n",
            "Epoch 600: Train Loss = 2.6031, Val Loss = 2.6020\n",
            "Epoch 700: Train Loss = 2.6017, Val Loss = 2.6028\n",
            "Epoch 800: Train Loss = 2.6010, Val Loss = 2.6005\n",
            "Epoch 900: Train Loss = 2.6003, Val Loss = 2.5997\n",
            "Epoch 1000: Train Loss = 2.6006, Val Loss = 2.5973\n",
            "Epoch 1100: Train Loss = 2.6002, Val Loss = 2.5973\n",
            "Epoch 1200: Train Loss = 2.5994, Val Loss = 2.5960\n",
            "Epoch 1300: Train Loss = 2.5981, Val Loss = 2.5963\n",
            "Epoch 1400: Train Loss = 2.5946, Val Loss = 2.5944\n",
            "Epoch 1500: Train Loss = 2.5962, Val Loss = 2.5929\n",
            "Epoch 1600: Train Loss = 2.5943, Val Loss = 2.5956\n",
            "Epoch 1700: Train Loss = 2.5934, Val Loss = 2.5947\n",
            "Epoch 1800: Train Loss = 2.5919, Val Loss = 2.5911\n",
            "Epoch 1900: Train Loss = 2.5933, Val Loss = 2.5911\n",
            "Epoch 2000: Train Loss = 2.5925, Val Loss = 2.5939\n"
          ]
        }
      ]
    },
    {
      "cell_type": "code",
      "execution_count": null,
      "metadata": {
        "colab": {
          "base_uri": "https://localhost:8080/",
          "height": 390
        },
        "id": "V30W-kq64GbE",
        "outputId": "c8bc7cef-fabe-4fc6-da2c-d50208488024"
      },
      "outputs": [
        {
          "output_type": "error",
          "ename": "ValueError",
          "evalue": "Data length is less than block size.",
          "traceback": [
            "\u001b[0;31m---------------------------------------------------------------------------\u001b[0m",
            "\u001b[0;31mValueError\u001b[0m                                Traceback (most recent call last)",
            "\u001b[0;32m<ipython-input-10-6c4d7044bce8>\u001b[0m in \u001b[0;36m<cell line: 0>\u001b[0;34m()\u001b[0m\n\u001b[1;32m     33\u001b[0m \u001b[0;34m\u001b[0m\u001b[0m\n\u001b[1;32m     34\u001b[0m   \u001b[0;32mif\u001b[0m \u001b[0;34m(\u001b[0m\u001b[0mepoch\u001b[0m \u001b[0;34m+\u001b[0m \u001b[0;36m1\u001b[0m\u001b[0;34m)\u001b[0m \u001b[0;34m%\u001b[0m \u001b[0meval_interval\u001b[0m \u001b[0;34m==\u001b[0m \u001b[0;36m0\u001b[0m \u001b[0;32mor\u001b[0m \u001b[0mepoch\u001b[0m \u001b[0;34m==\u001b[0m \u001b[0;36m0\u001b[0m\u001b[0;34m:\u001b[0m\u001b[0;34m\u001b[0m\u001b[0;34m\u001b[0m\u001b[0m\n\u001b[0;32m---> 35\u001b[0;31m     \u001b[0mlosses\u001b[0m \u001b[0;34m=\u001b[0m \u001b[0mestimate_loss\u001b[0m\u001b[0;34m(\u001b[0m\u001b[0;34m)\u001b[0m\u001b[0;34m\u001b[0m\u001b[0;34m\u001b[0m\u001b[0m\n\u001b[0m\u001b[1;32m     36\u001b[0m     \u001b[0mprint\u001b[0m\u001b[0;34m(\u001b[0m\u001b[0;34mf\"Epoch {epoch+1}: Train Loss = {losses['train']:.4f}, Val Loss = {losses['val']:.4f}\"\u001b[0m\u001b[0;34m)\u001b[0m\u001b[0;34m\u001b[0m\u001b[0;34m\u001b[0m\u001b[0m\n\u001b[1;32m     37\u001b[0m     \u001b[0mloss_history\u001b[0m\u001b[0;34m.\u001b[0m\u001b[0mappend\u001b[0m\u001b[0;34m(\u001b[0m\u001b[0;34m(\u001b[0m\u001b[0mepoch\u001b[0m \u001b[0;34m+\u001b[0m \u001b[0;36m1\u001b[0m\u001b[0;34m,\u001b[0m \u001b[0mlosses\u001b[0m\u001b[0;34m[\u001b[0m\u001b[0;34m'train'\u001b[0m\u001b[0;34m]\u001b[0m\u001b[0;34m,\u001b[0m \u001b[0mlosses\u001b[0m\u001b[0;34m[\u001b[0m\u001b[0;34m'val'\u001b[0m\u001b[0;34m]\u001b[0m\u001b[0;34m)\u001b[0m\u001b[0;34m)\u001b[0m\u001b[0;34m\u001b[0m\u001b[0;34m\u001b[0m\u001b[0m\n",
            "\u001b[0;32m/usr/local/lib/python3.11/dist-packages/torch/utils/_contextlib.py\u001b[0m in \u001b[0;36mdecorate_context\u001b[0;34m(*args, **kwargs)\u001b[0m\n\u001b[1;32m    114\u001b[0m     \u001b[0;32mdef\u001b[0m \u001b[0mdecorate_context\u001b[0m\u001b[0;34m(\u001b[0m\u001b[0;34m*\u001b[0m\u001b[0margs\u001b[0m\u001b[0;34m,\u001b[0m \u001b[0;34m**\u001b[0m\u001b[0mkwargs\u001b[0m\u001b[0;34m)\u001b[0m\u001b[0;34m:\u001b[0m\u001b[0;34m\u001b[0m\u001b[0;34m\u001b[0m\u001b[0m\n\u001b[1;32m    115\u001b[0m         \u001b[0;32mwith\u001b[0m \u001b[0mctx_factory\u001b[0m\u001b[0;34m(\u001b[0m\u001b[0;34m)\u001b[0m\u001b[0;34m:\u001b[0m\u001b[0;34m\u001b[0m\u001b[0;34m\u001b[0m\u001b[0m\n\u001b[0;32m--> 116\u001b[0;31m             \u001b[0;32mreturn\u001b[0m \u001b[0mfunc\u001b[0m\u001b[0;34m(\u001b[0m\u001b[0;34m*\u001b[0m\u001b[0margs\u001b[0m\u001b[0;34m,\u001b[0m \u001b[0;34m**\u001b[0m\u001b[0mkwargs\u001b[0m\u001b[0;34m)\u001b[0m\u001b[0;34m\u001b[0m\u001b[0;34m\u001b[0m\u001b[0m\n\u001b[0m\u001b[1;32m    117\u001b[0m \u001b[0;34m\u001b[0m\u001b[0m\n\u001b[1;32m    118\u001b[0m     \u001b[0;32mreturn\u001b[0m \u001b[0mdecorate_context\u001b[0m\u001b[0;34m\u001b[0m\u001b[0;34m\u001b[0m\u001b[0m\n",
            "\u001b[0;32m<ipython-input-10-6c4d7044bce8>\u001b[0m in \u001b[0;36mestimate_loss\u001b[0;34m()\u001b[0m\n\u001b[1;32m     14\u001b[0m     \u001b[0mlosses\u001b[0m \u001b[0;34m=\u001b[0m \u001b[0mtorch\u001b[0m\u001b[0;34m.\u001b[0m\u001b[0mzeros\u001b[0m\u001b[0;34m(\u001b[0m\u001b[0meval_iters\u001b[0m\u001b[0;34m)\u001b[0m\u001b[0;34m\u001b[0m\u001b[0;34m\u001b[0m\u001b[0m\n\u001b[1;32m     15\u001b[0m     \u001b[0;32mfor\u001b[0m \u001b[0mk\u001b[0m \u001b[0;32min\u001b[0m \u001b[0mrange\u001b[0m\u001b[0;34m(\u001b[0m\u001b[0meval_iters\u001b[0m\u001b[0;34m)\u001b[0m\u001b[0;34m:\u001b[0m\u001b[0;34m\u001b[0m\u001b[0;34m\u001b[0m\u001b[0m\n\u001b[0;32m---> 16\u001b[0;31m       \u001b[0mX\u001b[0m\u001b[0;34m,\u001b[0m \u001b[0mY\u001b[0m \u001b[0;34m=\u001b[0m \u001b[0mdata\u001b[0m\u001b[0;34m.\u001b[0m\u001b[0mget_batch\u001b[0m\u001b[0;34m(\u001b[0m\u001b[0msplit\u001b[0m\u001b[0;34m,\u001b[0m \u001b[0mbatch_size\u001b[0m\u001b[0;34m,\u001b[0m \u001b[0mblock_size\u001b[0m\u001b[0;34m,\u001b[0m \u001b[0;34m\"cpu\"\u001b[0m\u001b[0;34m)\u001b[0m\u001b[0;34m\u001b[0m\u001b[0;34m\u001b[0m\u001b[0m\n\u001b[0m\u001b[1;32m     17\u001b[0m       \u001b[0mx_recon\u001b[0m\u001b[0;34m,\u001b[0m \u001b[0mvq_loss\u001b[0m\u001b[0;34m,\u001b[0m \u001b[0m_\u001b[0m \u001b[0;34m=\u001b[0m \u001b[0m_model\u001b[0m\u001b[0;34m(\u001b[0m\u001b[0mX\u001b[0m\u001b[0;34m)\u001b[0m\u001b[0;34m\u001b[0m\u001b[0;34m\u001b[0m\u001b[0m\n\u001b[1;32m     18\u001b[0m       \u001b[0mrecon_loss\u001b[0m \u001b[0;34m=\u001b[0m \u001b[0mF\u001b[0m\u001b[0;34m.\u001b[0m\u001b[0mcross_entropy\u001b[0m\u001b[0;34m(\u001b[0m\u001b[0mx_recon\u001b[0m\u001b[0;34m.\u001b[0m\u001b[0mview\u001b[0m\u001b[0;34m(\u001b[0m\u001b[0;34m-\u001b[0m\u001b[0;36m1\u001b[0m\u001b[0;34m,\u001b[0m \u001b[0;36m4\u001b[0m\u001b[0;34m)\u001b[0m\u001b[0;34m,\u001b[0m \u001b[0mY\u001b[0m\u001b[0;34m.\u001b[0m\u001b[0mview\u001b[0m\u001b[0;34m(\u001b[0m\u001b[0;34m-\u001b[0m\u001b[0;36m1\u001b[0m\u001b[0;34m,\u001b[0m \u001b[0;36m4\u001b[0m\u001b[0;34m)\u001b[0m\u001b[0;34m)\u001b[0m\u001b[0;34m\u001b[0m\u001b[0;34m\u001b[0m\u001b[0m\n",
            "\u001b[0;32m<ipython-input-6-c23f27ae1514>\u001b[0m in \u001b[0;36mget_batch\u001b[0;34m(self, split, batch_size, block_size, device)\u001b[0m\n\u001b[1;32m     63\u001b[0m     \u001b[0mdata\u001b[0m \u001b[0;34m=\u001b[0m \u001b[0mself\u001b[0m\u001b[0;34m.\u001b[0m\u001b[0mtrain_data\u001b[0m \u001b[0;32mif\u001b[0m \u001b[0msplit\u001b[0m \u001b[0;34m==\u001b[0m \u001b[0;34m\"train\"\u001b[0m \u001b[0;32melse\u001b[0m \u001b[0mself\u001b[0m\u001b[0;34m.\u001b[0m\u001b[0mval_data\u001b[0m\u001b[0;34m\u001b[0m\u001b[0;34m\u001b[0m\u001b[0m\n\u001b[1;32m     64\u001b[0m     \u001b[0;32mif\u001b[0m \u001b[0mlen\u001b[0m\u001b[0;34m(\u001b[0m\u001b[0mdata\u001b[0m\u001b[0;34m)\u001b[0m \u001b[0;34m<\u001b[0m \u001b[0mblock_size\u001b[0m \u001b[0;34m+\u001b[0m \u001b[0;36m1\u001b[0m\u001b[0;34m:\u001b[0m\u001b[0;34m\u001b[0m\u001b[0;34m\u001b[0m\u001b[0m\n\u001b[0;32m---> 65\u001b[0;31m       \u001b[0;32mraise\u001b[0m \u001b[0mValueError\u001b[0m\u001b[0;34m(\u001b[0m\u001b[0;34m\"Data length is less than block size.\"\u001b[0m\u001b[0;34m)\u001b[0m\u001b[0;34m\u001b[0m\u001b[0;34m\u001b[0m\u001b[0m\n\u001b[0m\u001b[1;32m     66\u001b[0m     \u001b[0;31m# randomly choose starting indices\u001b[0m\u001b[0;34m\u001b[0m\u001b[0;34m\u001b[0m\u001b[0m\n\u001b[1;32m     67\u001b[0m     \u001b[0mix\u001b[0m \u001b[0;34m=\u001b[0m \u001b[0mtorch\u001b[0m\u001b[0;34m.\u001b[0m\u001b[0mrandint\u001b[0m\u001b[0;34m(\u001b[0m\u001b[0;36m0\u001b[0m\u001b[0;34m,\u001b[0m \u001b[0mlen\u001b[0m\u001b[0;34m(\u001b[0m\u001b[0mdata\u001b[0m\u001b[0;34m)\u001b[0m \u001b[0;34m-\u001b[0m \u001b[0mblock_size\u001b[0m\u001b[0;34m,\u001b[0m \u001b[0;34m(\u001b[0m\u001b[0mbatch_size\u001b[0m\u001b[0;34m,\u001b[0m\u001b[0;34m)\u001b[0m\u001b[0;34m)\u001b[0m\u001b[0;34m\u001b[0m\u001b[0;34m\u001b[0m\u001b[0m\n",
            "\u001b[0;31mValueError\u001b[0m: Data length is less than block size."
          ]
        }
      ],
      "source": [
        "batch_size = 8\n",
        "block_size = 16\n",
        "epochs = 5000\n",
        "eval_interval = 100\n",
        "eval_iters = 75\n",
        "learning_rate = 2e-5\n",
        "loss_history = []\n",
        "\n",
        "@torch.no_grad()\n",
        "def estimate_loss():\n",
        "  out = {}\n",
        "  _model.eval()\n",
        "  for split in ['train', 'val']:\n",
        "    losses = torch.zeros(eval_iters)\n",
        "    for k in range(eval_iters):\n",
        "      X, Y = data.get_batch(split, batch_size, block_size, \"cpu\")\n",
        "      x_recon, vq_loss, _ = _model(X)\n",
        "      recon_loss = F.cross_entropy(x_recon.view(-1, 4), Y.view(-1, 4))\n",
        "      losses[k] = (recon_loss + vq_loss).item()\n",
        "    out[split] = losses.mean()\n",
        "  _model.train()\n",
        "  return out\n",
        "\n",
        "for epoch in range(epochs):\n",
        "  xb, yb = data.get_batch('train', batch_size, block_size, \"cpu\")\n",
        "\n",
        "  optimizer.zero_grad()\n",
        "  x_recon, vq_loss, _ = _model(xb)\n",
        "  recon_loss = F.cross_entropy(x_recon.view(-1, 4), yb.view(-1, 4))\n",
        "  loss = recon_loss + vq_loss\n",
        "  loss.backward()\n",
        "  optimizer.step()\n",
        "\n",
        "  if (epoch + 1) % eval_interval == 0 or epoch == 0:\n",
        "    losses = estimate_loss()\n",
        "    print(f\"Epoch {epoch+1}: Train Loss = {losses['train']:.4f}, Val Loss = {losses['val']:.4f}\")\n",
        "    loss_history.append((epoch + 1, losses['train'], losses['val']))"
      ]
    },
    {
      "cell_type": "code",
      "execution_count": 11,
      "metadata": {
        "colab": {
          "base_uri": "https://localhost:8080/"
        },
        "id": "9UFAvciu723s",
        "outputId": "34bca8d9-673a-4bac-b575-2131779b4ae1"
      },
      "outputs": [
        {
          "output_type": "stream",
          "name": "stdout",
          "text": [
            "10.09 million\n"
          ]
        }
      ],
      "source": [
        "n_param = sum(p.numel() for p in model.parameters())/1e6\n",
        "print(f\"{n_param:.2f} million\")\n",
        "torch.save(model.state_dict(), f'biosaic_{n_param:.0f}m.pth')"
      ]
    },
    {
      "cell_type": "code",
      "execution_count": null,
      "metadata": {
        "colab": {
          "base_uri": "https://localhost:8080/",
          "height": 487
        },
        "id": "GmniaeYvNeOR",
        "outputId": "ccc50e0b-fa69-40a5-e5f4-777e94d3f3c6"
      },
      "outputs": [
        {
          "data": {
            "image/png": "[encoded data removed]",
            "text/plain": [
              "<Figure size 800x500 with 1 Axes>"
            ]
          },
          "metadata": {},
          "output_type": "display_data"
        }
      ],
      "source": [
        "import matplotlib.pyplot as plt\n",
        "\n",
        "epochs_logged, train_losses, val_losses = zip(*loss_history)\n",
        "plt.figure(figsize=(8, 5))\n",
        "plt.plot(epochs_logged, train_losses, label=\"Train Loss\", marker='o', linestyle='-')\n",
        "plt.plot(epochs_logged, val_losses, label=\"Val Loss\", marker='o', linestyle='--')\n",
        "plt.xlabel(\"Epoch\")\n",
        "plt.ylabel(\"Loss\")\n",
        "plt.legend()\n",
        "plt.title(\"Training & Validation Loss Over Time\")\n",
        "plt.grid(True)\n",
        "plt.show()"
      ]
    }
  ],
  "metadata": {
    "colab": {
      "provenance": [],
      "authorship_tag": "ABX9TyP38kt59DhbOASuvF5Me9ub"
    },
    "kernelspec": {
      "display_name": "Python 3",
      "name": "python3"
    },
    "language_info": {
      "name": "python"
    }
  },
  "nbformat": 4,
  "nbformat_minor": 0
}